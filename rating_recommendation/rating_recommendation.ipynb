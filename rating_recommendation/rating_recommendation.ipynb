{
 "metadata": {
  "language_info": {
   "codemirror_mode": {
    "name": "ipython",
    "version": 3
   },
   "file_extension": ".py",
   "mimetype": "text/x-python",
   "name": "python",
   "nbconvert_exporter": "python",
   "pygments_lexer": "ipython3",
   "version": "3.7.6-final"
  },
  "orig_nbformat": 2,
  "kernelspec": {
   "name": "python3",
   "display_name": "Python 3"
  }
 },
 "nbformat": 4,
 "nbformat_minor": 2,
 "cells": [
  {
   "cell_type": "code",
   "execution_count": 649,
   "metadata": {},
   "outputs": [],
   "source": [
    "from sklearn.decomposition import TruncatedSVD\n",
    "from scipy.sparse.linalg import svds\n",
    "\n",
    "import matplotlib.pyplot as plt\n",
    "import seaborn as sns\n",
    "import pandas as pd\n",
    "import numpy as np\n",
    "import warnings\n",
    "warnings.filterwarnings(\"ignore\")\n",
    "import csv \n",
    "import os"
   ]
  },
  {
   "cell_type": "code",
   "execution_count": 667,
   "metadata": {},
   "outputs": [],
   "source": [
    "# user id 생성\n",
    "\n",
    "# 57 *(userid의 갯수) 개 만큼의 행이 존재\n",
    "user=pd.DataFrame(columns=['userid',\"areaid\",\"rating\"])\n",
    "\n",
    "def create_user(n):\n",
    "    idx=0\n",
    "    coin=0\n",
    "    for nn in range(n):\n",
    "        a=[]\n",
    "        for i in range(57):\n",
    "            # if (coin+i%3==0):\n",
    "            a.append(nn+1) # userid\n",
    "            a.append(i) # areaid\n",
    "            a.append(np.random.randint(0, 6)) # random rating\n",
    "            user.loc[idx]=a\n",
    "            a=[]\n",
    "            idx+=1\n",
    "            coin+=1\n",
    "create_user(30)\n"
   ]
  },
  {
   "cell_type": "code",
   "execution_count": 668,
   "metadata": {},
   "outputs": [
    {
     "output_type": "execute_result",
     "data": {
      "text/plain": [
       "(1710, 3)"
      ]
     },
     "metadata": {},
     "execution_count": 668
    }
   ],
   "source": [
    "user.shape"
   ]
  },
  {
   "cell_type": "code",
   "execution_count": 676,
   "metadata": {},
   "outputs": [
    {
     "output_type": "stream",
     "name": "stdout",
     "text": [
      "1468\n1453\n1438\n1430\n1420\n"
     ]
    }
   ],
   "source": [
    "user\n",
    "# 일부 행 삭제\n",
    "for i in range(len(user)-2):\n",
    "    if i%100==0:\n",
    "        user.drop(user.index[i],inplace=True)\n",
    "print(len(user))\n",
    "for i in range(len(user)-2):\n",
    "    if i%100==0:\n",
    "        user.drop(user.index[i],inplace=True)\n",
    "print(len(user))\n",
    "for i in range(len(user)-2):\n",
    "    if i%100==0:\n",
    "        user.drop(user.index[i],inplace=True)\n",
    "print(len(user))\n",
    "for i in range(len(user)-2):\n",
    "    if i%200==0:\n",
    "        user.drop(user.index[i],inplace=True)\n",
    "print(len(user))\n",
    "for i in range(len(user)-2):\n",
    "    if i%150==0:\n",
    "        user.drop(user.index[i],inplace=True)\n",
    "print(len(user))"
   ]
  },
  {
   "cell_type": "code",
   "execution_count": 677,
   "metadata": {},
   "outputs": [],
   "source": [
    "# areaid 생성\n",
    "df=pd.read_csv('../data/info_data.csv',encoding='utf-8',sep='|')\n",
    "# 57 개 만큼의 행이 존재\n",
    "\n",
    "area=pd.DataFrame(columns=['areaid',\"title\",\"genres\"])\n",
    "\n",
    "a=[]\n",
    "idx=0\n",
    "for i in range(57):\n",
    "    a.append(i) # movieid\n",
    "    a.append(df.iloc[idx,0]) # title\n",
    "    a.append(df.iloc[idx,33]) # genres\n",
    "    area.loc[idx]=a\n",
    "    a=[]\n",
    "    idx+=1\n"
   ]
  },
  {
   "cell_type": "code",
   "execution_count": 678,
   "metadata": {},
   "outputs": [
    {
     "output_type": "execute_result",
     "data": {
      "text/plain": [
       "   areaid                title   genres\n",
       "0       0           서울공연예술연습공간    서울특별시\n",
       "1       1             아르코예술기록원    서울특별시\n",
       "2       2           청주공연예술연습공간     충청북도\n",
       "3       3           아르코예술인력개발원      경기도\n",
       "4       4           전주공연예술연습공간     전라북도\n",
       "5       5           춘천공연예술연습공간      강원도\n",
       "6       6           세종공연예술연습공간  세종특별자치시\n",
       "7       7           창원공연예술연습공간     경상남도\n",
       "8       8           강진공연예술연습공간     전라남도\n",
       "9       9           금정공연예술연습공간    부산광역시\n",
       "10     10           서천공연예술연습공간     충청남도\n",
       "11     11           부산공연예술연습공간    부산광역시\n",
       "12     12           광주공연예술연습공간    광주광역시\n",
       "13     13           부천공연예술연습공간      경기도\n",
       "14     14           인천공연예술연습공간    인천광역시\n",
       "15     15           울산공연예술연습공간    울산광역시\n",
       "16     16                예술가의집    서울특별시\n",
       "17     17           대구공연예술연습공간    대구광역시\n",
       "18     18           포항공연예술연습공간     경상북도\n",
       "19     19           원주공연예술연습공간      강원도\n",
       "20     20                 예울마루     전라남도\n",
       "21     21               고흥문화회관     전라남도\n",
       "22     22              영광예술의전당     전라남도\n",
       "23     23              남도소리울림터     전라남도\n",
       "24     24               강진군아트홀     전라남도\n",
       "25     25             곡성레저문화센터     전라남도\n",
       "26     26             광양문화예술회관     전라남도\n",
       "27     27             구례문화예술회관     전라남도\n",
       "28     28             나주문화예술회관     전라남도\n",
       "29     29               담양문화회관     전라남도\n",
       "30     30             장성문화예술회관     전라남도\n",
       "31     31            목포시문화예술회관     전라남도\n",
       "32     32           무안승달문화예술회관     전라남도\n",
       "33     33            보성군문화예술회관     전라남도\n",
       "34     34             순천문화예술회관     전라남도\n",
       "35     35               여수시민회관     전라남도\n",
       "36     36            완도문화예술의전당     전라남도\n",
       "37     37             장흥문화예술회관     전라남도\n",
       "38     38             진도향토문화회관     전라남도\n",
       "39     39             해남문화예술회관     전라남도\n",
       "40     40        밀양 누루(樓樓) 미술관     경상남도\n",
       "41     41                우리미술관    인천광역시\n",
       "42     42           소금나루 작은미술관    울산광역시\n",
       "43     43            바래길 작은미술관     경상남도\n",
       "44     44      장생포고래로131 작은미술관    울산광역시\n",
       "45     45            작은미술관 보구곶      경기도\n",
       "46     46             서동 작은미술관    부산광역시\n",
       "47     47          아트터미널 작은미술관      강원도\n",
       "48     48             악양 작은미술관     경상남도\n",
       "49     49       노인과 둔장바다 작은미술관     전라남도\n",
       "50     50  기억을 모으는 미술관 ART-TEA      강원도\n",
       "51     51            BRT 작은미술관  세종특별자치시\n",
       "52     52  정라항 그리go 작은미술관 4048      강원도\n",
       "53     53  정라항 그리go 작은미술관 5223      강원도\n",
       "54     54  정라항 그리go 작은미술관 5219      강원도\n",
       "55     55  정라항 그리go 작은미술관 1116      강원도\n",
       "56     56            봉평콧등작은미술관      강원도"
      ],
      "text/html": "<div>\n<style scoped>\n    .dataframe tbody tr th:only-of-type {\n        vertical-align: middle;\n    }\n\n    .dataframe tbody tr th {\n        vertical-align: top;\n    }\n\n    .dataframe thead th {\n        text-align: right;\n    }\n</style>\n<table border=\"1\" class=\"dataframe\">\n  <thead>\n    <tr style=\"text-align: right;\">\n      <th></th>\n      <th>areaid</th>\n      <th>title</th>\n      <th>genres</th>\n    </tr>\n  </thead>\n  <tbody>\n    <tr>\n      <th>0</th>\n      <td>0</td>\n      <td>서울공연예술연습공간</td>\n      <td>서울특별시</td>\n    </tr>\n    <tr>\n      <th>1</th>\n      <td>1</td>\n      <td>아르코예술기록원</td>\n      <td>서울특별시</td>\n    </tr>\n    <tr>\n      <th>2</th>\n      <td>2</td>\n      <td>청주공연예술연습공간</td>\n      <td>충청북도</td>\n    </tr>\n    <tr>\n      <th>3</th>\n      <td>3</td>\n      <td>아르코예술인력개발원</td>\n      <td>경기도</td>\n    </tr>\n    <tr>\n      <th>4</th>\n      <td>4</td>\n      <td>전주공연예술연습공간</td>\n      <td>전라북도</td>\n    </tr>\n    <tr>\n      <th>5</th>\n      <td>5</td>\n      <td>춘천공연예술연습공간</td>\n      <td>강원도</td>\n    </tr>\n    <tr>\n      <th>6</th>\n      <td>6</td>\n      <td>세종공연예술연습공간</td>\n      <td>세종특별자치시</td>\n    </tr>\n    <tr>\n      <th>7</th>\n      <td>7</td>\n      <td>창원공연예술연습공간</td>\n      <td>경상남도</td>\n    </tr>\n    <tr>\n      <th>8</th>\n      <td>8</td>\n      <td>강진공연예술연습공간</td>\n      <td>전라남도</td>\n    </tr>\n    <tr>\n      <th>9</th>\n      <td>9</td>\n      <td>금정공연예술연습공간</td>\n      <td>부산광역시</td>\n    </tr>\n    <tr>\n      <th>10</th>\n      <td>10</td>\n      <td>서천공연예술연습공간</td>\n      <td>충청남도</td>\n    </tr>\n    <tr>\n      <th>11</th>\n      <td>11</td>\n      <td>부산공연예술연습공간</td>\n      <td>부산광역시</td>\n    </tr>\n    <tr>\n      <th>12</th>\n      <td>12</td>\n      <td>광주공연예술연습공간</td>\n      <td>광주광역시</td>\n    </tr>\n    <tr>\n      <th>13</th>\n      <td>13</td>\n      <td>부천공연예술연습공간</td>\n      <td>경기도</td>\n    </tr>\n    <tr>\n      <th>14</th>\n      <td>14</td>\n      <td>인천공연예술연습공간</td>\n      <td>인천광역시</td>\n    </tr>\n    <tr>\n      <th>15</th>\n      <td>15</td>\n      <td>울산공연예술연습공간</td>\n      <td>울산광역시</td>\n    </tr>\n    <tr>\n      <th>16</th>\n      <td>16</td>\n      <td>예술가의집</td>\n      <td>서울특별시</td>\n    </tr>\n    <tr>\n      <th>17</th>\n      <td>17</td>\n      <td>대구공연예술연습공간</td>\n      <td>대구광역시</td>\n    </tr>\n    <tr>\n      <th>18</th>\n      <td>18</td>\n      <td>포항공연예술연습공간</td>\n      <td>경상북도</td>\n    </tr>\n    <tr>\n      <th>19</th>\n      <td>19</td>\n      <td>원주공연예술연습공간</td>\n      <td>강원도</td>\n    </tr>\n    <tr>\n      <th>20</th>\n      <td>20</td>\n      <td>예울마루</td>\n      <td>전라남도</td>\n    </tr>\n    <tr>\n      <th>21</th>\n      <td>21</td>\n      <td>고흥문화회관</td>\n      <td>전라남도</td>\n    </tr>\n    <tr>\n      <th>22</th>\n      <td>22</td>\n      <td>영광예술의전당</td>\n      <td>전라남도</td>\n    </tr>\n    <tr>\n      <th>23</th>\n      <td>23</td>\n      <td>남도소리울림터</td>\n      <td>전라남도</td>\n    </tr>\n    <tr>\n      <th>24</th>\n      <td>24</td>\n      <td>강진군아트홀</td>\n      <td>전라남도</td>\n    </tr>\n    <tr>\n      <th>25</th>\n      <td>25</td>\n      <td>곡성레저문화센터</td>\n      <td>전라남도</td>\n    </tr>\n    <tr>\n      <th>26</th>\n      <td>26</td>\n      <td>광양문화예술회관</td>\n      <td>전라남도</td>\n    </tr>\n    <tr>\n      <th>27</th>\n      <td>27</td>\n      <td>구례문화예술회관</td>\n      <td>전라남도</td>\n    </tr>\n    <tr>\n      <th>28</th>\n      <td>28</td>\n      <td>나주문화예술회관</td>\n      <td>전라남도</td>\n    </tr>\n    <tr>\n      <th>29</th>\n      <td>29</td>\n      <td>담양문화회관</td>\n      <td>전라남도</td>\n    </tr>\n    <tr>\n      <th>30</th>\n      <td>30</td>\n      <td>장성문화예술회관</td>\n      <td>전라남도</td>\n    </tr>\n    <tr>\n      <th>31</th>\n      <td>31</td>\n      <td>목포시문화예술회관</td>\n      <td>전라남도</td>\n    </tr>\n    <tr>\n      <th>32</th>\n      <td>32</td>\n      <td>무안승달문화예술회관</td>\n      <td>전라남도</td>\n    </tr>\n    <tr>\n      <th>33</th>\n      <td>33</td>\n      <td>보성군문화예술회관</td>\n      <td>전라남도</td>\n    </tr>\n    <tr>\n      <th>34</th>\n      <td>34</td>\n      <td>순천문화예술회관</td>\n      <td>전라남도</td>\n    </tr>\n    <tr>\n      <th>35</th>\n      <td>35</td>\n      <td>여수시민회관</td>\n      <td>전라남도</td>\n    </tr>\n    <tr>\n      <th>36</th>\n      <td>36</td>\n      <td>완도문화예술의전당</td>\n      <td>전라남도</td>\n    </tr>\n    <tr>\n      <th>37</th>\n      <td>37</td>\n      <td>장흥문화예술회관</td>\n      <td>전라남도</td>\n    </tr>\n    <tr>\n      <th>38</th>\n      <td>38</td>\n      <td>진도향토문화회관</td>\n      <td>전라남도</td>\n    </tr>\n    <tr>\n      <th>39</th>\n      <td>39</td>\n      <td>해남문화예술회관</td>\n      <td>전라남도</td>\n    </tr>\n    <tr>\n      <th>40</th>\n      <td>40</td>\n      <td>밀양 누루(樓樓) 미술관</td>\n      <td>경상남도</td>\n    </tr>\n    <tr>\n      <th>41</th>\n      <td>41</td>\n      <td>우리미술관</td>\n      <td>인천광역시</td>\n    </tr>\n    <tr>\n      <th>42</th>\n      <td>42</td>\n      <td>소금나루 작은미술관</td>\n      <td>울산광역시</td>\n    </tr>\n    <tr>\n      <th>43</th>\n      <td>43</td>\n      <td>바래길 작은미술관</td>\n      <td>경상남도</td>\n    </tr>\n    <tr>\n      <th>44</th>\n      <td>44</td>\n      <td>장생포고래로131 작은미술관</td>\n      <td>울산광역시</td>\n    </tr>\n    <tr>\n      <th>45</th>\n      <td>45</td>\n      <td>작은미술관 보구곶</td>\n      <td>경기도</td>\n    </tr>\n    <tr>\n      <th>46</th>\n      <td>46</td>\n      <td>서동 작은미술관</td>\n      <td>부산광역시</td>\n    </tr>\n    <tr>\n      <th>47</th>\n      <td>47</td>\n      <td>아트터미널 작은미술관</td>\n      <td>강원도</td>\n    </tr>\n    <tr>\n      <th>48</th>\n      <td>48</td>\n      <td>악양 작은미술관</td>\n      <td>경상남도</td>\n    </tr>\n    <tr>\n      <th>49</th>\n      <td>49</td>\n      <td>노인과 둔장바다 작은미술관</td>\n      <td>전라남도</td>\n    </tr>\n    <tr>\n      <th>50</th>\n      <td>50</td>\n      <td>기억을 모으는 미술관 ART-TEA</td>\n      <td>강원도</td>\n    </tr>\n    <tr>\n      <th>51</th>\n      <td>51</td>\n      <td>BRT 작은미술관</td>\n      <td>세종특별자치시</td>\n    </tr>\n    <tr>\n      <th>52</th>\n      <td>52</td>\n      <td>정라항 그리go 작은미술관 4048</td>\n      <td>강원도</td>\n    </tr>\n    <tr>\n      <th>53</th>\n      <td>53</td>\n      <td>정라항 그리go 작은미술관 5223</td>\n      <td>강원도</td>\n    </tr>\n    <tr>\n      <th>54</th>\n      <td>54</td>\n      <td>정라항 그리go 작은미술관 5219</td>\n      <td>강원도</td>\n    </tr>\n    <tr>\n      <th>55</th>\n      <td>55</td>\n      <td>정라항 그리go 작은미술관 1116</td>\n      <td>강원도</td>\n    </tr>\n    <tr>\n      <th>56</th>\n      <td>56</td>\n      <td>봉평콧등작은미술관</td>\n      <td>강원도</td>\n    </tr>\n  </tbody>\n</table>\n</div>"
     },
     "metadata": {},
     "execution_count": 678
    }
   ],
   "source": [
    "area"
   ]
  },
  {
   "cell_type": "code",
   "execution_count": 679,
   "metadata": {},
   "outputs": [],
   "source": [
    "# 저장\n",
    "user.to_csv('../data/df_user.csv',index=False)\n",
    "area.to_csv('../data/df_area.csv',index=False)\n"
   ]
  },
  {
   "cell_type": "code",
   "execution_count": 680,
   "metadata": {},
   "outputs": [],
   "source": [
    "df_area=pd.read_csv('../data/df_area.csv',encoding='utf-8')\n",
    "df_user=pd.read_csv('../data/df_user.csv',encoding='utf-8')"
   ]
  },
  {
   "cell_type": "code",
   "execution_count": 681,
   "metadata": {},
   "outputs": [],
   "source": [
    "# 전처리\n",
    "# df_area.drop('genres',axis=1,inplace=True)\n",
    "# df_area.head()"
   ]
  },
  {
   "cell_type": "code",
   "execution_count": 682,
   "metadata": {},
   "outputs": [
    {
     "output_type": "execute_result",
     "data": {
      "text/plain": [
       "      userid  areaid  rating       title genres\n",
       "0          1      16       3       예술가의집  서울특별시\n",
       "1          2      16       1       예술가의집  서울특별시\n",
       "2          4      16       1       예술가의집  서울특별시\n",
       "3          6      16       5       예술가의집  서울특별시\n",
       "4          7      16       2       예술가의집  서울특별시\n",
       "...      ...     ...     ...         ...    ...\n",
       "1415      25       4       0  전주공연예술연습공간   전라북도\n",
       "1416      27       4       3  전주공연예술연습공간   전라북도\n",
       "1417      28       4       1  전주공연예술연습공간   전라북도\n",
       "1418      29       4       2  전주공연예술연습공간   전라북도\n",
       "1419      30       4       5  전주공연예술연습공간   전라북도\n",
       "\n",
       "[1420 rows x 5 columns]"
      ],
      "text/html": "<div>\n<style scoped>\n    .dataframe tbody tr th:only-of-type {\n        vertical-align: middle;\n    }\n\n    .dataframe tbody tr th {\n        vertical-align: top;\n    }\n\n    .dataframe thead th {\n        text-align: right;\n    }\n</style>\n<table border=\"1\" class=\"dataframe\">\n  <thead>\n    <tr style=\"text-align: right;\">\n      <th></th>\n      <th>userid</th>\n      <th>areaid</th>\n      <th>rating</th>\n      <th>title</th>\n      <th>genres</th>\n    </tr>\n  </thead>\n  <tbody>\n    <tr>\n      <th>0</th>\n      <td>1</td>\n      <td>16</td>\n      <td>3</td>\n      <td>예술가의집</td>\n      <td>서울특별시</td>\n    </tr>\n    <tr>\n      <th>1</th>\n      <td>2</td>\n      <td>16</td>\n      <td>1</td>\n      <td>예술가의집</td>\n      <td>서울특별시</td>\n    </tr>\n    <tr>\n      <th>2</th>\n      <td>4</td>\n      <td>16</td>\n      <td>1</td>\n      <td>예술가의집</td>\n      <td>서울특별시</td>\n    </tr>\n    <tr>\n      <th>3</th>\n      <td>6</td>\n      <td>16</td>\n      <td>5</td>\n      <td>예술가의집</td>\n      <td>서울특별시</td>\n    </tr>\n    <tr>\n      <th>4</th>\n      <td>7</td>\n      <td>16</td>\n      <td>2</td>\n      <td>예술가의집</td>\n      <td>서울특별시</td>\n    </tr>\n    <tr>\n      <th>...</th>\n      <td>...</td>\n      <td>...</td>\n      <td>...</td>\n      <td>...</td>\n      <td>...</td>\n    </tr>\n    <tr>\n      <th>1415</th>\n      <td>25</td>\n      <td>4</td>\n      <td>0</td>\n      <td>전주공연예술연습공간</td>\n      <td>전라북도</td>\n    </tr>\n    <tr>\n      <th>1416</th>\n      <td>27</td>\n      <td>4</td>\n      <td>3</td>\n      <td>전주공연예술연습공간</td>\n      <td>전라북도</td>\n    </tr>\n    <tr>\n      <th>1417</th>\n      <td>28</td>\n      <td>4</td>\n      <td>1</td>\n      <td>전주공연예술연습공간</td>\n      <td>전라북도</td>\n    </tr>\n    <tr>\n      <th>1418</th>\n      <td>29</td>\n      <td>4</td>\n      <td>2</td>\n      <td>전주공연예술연습공간</td>\n      <td>전라북도</td>\n    </tr>\n    <tr>\n      <th>1419</th>\n      <td>30</td>\n      <td>4</td>\n      <td>5</td>\n      <td>전주공연예술연습공간</td>\n      <td>전라북도</td>\n    </tr>\n  </tbody>\n</table>\n<p>1420 rows × 5 columns</p>\n</div>"
     },
     "metadata": {},
     "execution_count": 682
    }
   ],
   "source": [
    "user_area_data=pd.merge(df_user,df_area,on=\"areaid\")\n",
    "user_area_data"
   ]
  },
  {
   "cell_type": "code",
   "execution_count": 683,
   "metadata": {},
   "outputs": [
    {
     "output_type": "stream",
     "name": "stdout",
     "text": [
      "      userid  areaid  rating\n1400      30      35       3\n1401      30      36       5\n1402      30      37       5\n1403      30      38       2\n1404      30      39       5\n1405      30      40       3\n1406      30      41       0\n1407      30      43       3\n1408      30      44       4\n1409      30      45       1\n1410      30      46       4\n1411      30      47       2\n1412      30      49       4\n1413      30      50       3\n1414      30      51       3\n1415      30      52       5\n1416      30      53       0\n1417      30      54       3\n1418      30      55       4\n1419      30      56       4\n"
     ]
    }
   ],
   "source": [
    "print(df_user.tail(20))"
   ]
  },
  {
   "cell_type": "code",
   "execution_count": 684,
   "metadata": {},
   "outputs": [
    {
     "output_type": "execute_result",
     "data": {
      "text/plain": [
       "(1420, 5)"
      ]
     },
     "metadata": {},
     "execution_count": 684
    }
   ],
   "source": [
    "user_area_data.shape"
   ]
  },
  {
   "cell_type": "code",
   "execution_count": 685,
   "metadata": {},
   "outputs": [],
   "source": [
    "user_area_rating = user_area_data.pivot_table(index = 'userid', columns='areaid',values='rating',aggfunc='first').fillna(0)"
   ]
  },
  {
   "cell_type": "code",
   "execution_count": 686,
   "metadata": {},
   "outputs": [
    {
     "output_type": "execute_result",
     "data": {
      "text/plain": [
       "(30, 57)"
      ]
     },
     "metadata": {},
     "execution_count": 686
    }
   ],
   "source": [
    "user_area_rating.shape"
   ]
  },
  {
   "cell_type": "code",
   "execution_count": 687,
   "metadata": {},
   "outputs": [
    {
     "output_type": "execute_result",
     "data": {
      "text/plain": [
       "areaid   0    1    2    3    4    5    6    7    8    9   ...   47   48   49  \\\n",
       "userid                                                    ...                  \n",
       "1       0.0  0.0  0.0  0.0  0.0  0.0  0.0  0.0  0.0  0.0  ...  4.0  0.0  4.0   \n",
       "2       3.0  0.0  2.0  2.0  0.0  0.0  0.0  5.0  2.0  0.0  ...  0.0  5.0  0.0   \n",
       "3       0.0  1.0  0.0  4.0  0.0  4.0  0.0  0.0  3.0  2.0  ...  2.0  5.0  3.0   \n",
       "4       3.0  3.0  0.0  0.0  0.0  0.0  0.0  4.0  3.0  0.0  ...  1.0  0.0  4.0   \n",
       "5       0.0  0.0  5.0  1.0  1.0  0.0  4.0  2.0  0.0  4.0  ...  2.0  3.0  1.0   \n",
       "\n",
       "areaid   50   51   52   53   54   55   56  \n",
       "userid                                     \n",
       "1       4.0  0.0  3.0  0.0  1.0  0.0  0.0  \n",
       "2       4.0  0.0  0.0  0.0  0.0  0.0  2.0  \n",
       "3       2.0  0.0  1.0  5.0  3.0  5.0  0.0  \n",
       "4       4.0  0.0  4.0  5.0  0.0  1.0  5.0  \n",
       "5       0.0  5.0  1.0  4.0  3.0  2.0  4.0  \n",
       "\n",
       "[5 rows x 57 columns]"
      ],
      "text/html": "<div>\n<style scoped>\n    .dataframe tbody tr th:only-of-type {\n        vertical-align: middle;\n    }\n\n    .dataframe tbody tr th {\n        vertical-align: top;\n    }\n\n    .dataframe thead th {\n        text-align: right;\n    }\n</style>\n<table border=\"1\" class=\"dataframe\">\n  <thead>\n    <tr style=\"text-align: right;\">\n      <th>areaid</th>\n      <th>0</th>\n      <th>1</th>\n      <th>2</th>\n      <th>3</th>\n      <th>4</th>\n      <th>5</th>\n      <th>6</th>\n      <th>7</th>\n      <th>8</th>\n      <th>9</th>\n      <th>...</th>\n      <th>47</th>\n      <th>48</th>\n      <th>49</th>\n      <th>50</th>\n      <th>51</th>\n      <th>52</th>\n      <th>53</th>\n      <th>54</th>\n      <th>55</th>\n      <th>56</th>\n    </tr>\n    <tr>\n      <th>userid</th>\n      <th></th>\n      <th></th>\n      <th></th>\n      <th></th>\n      <th></th>\n      <th></th>\n      <th></th>\n      <th></th>\n      <th></th>\n      <th></th>\n      <th></th>\n      <th></th>\n      <th></th>\n      <th></th>\n      <th></th>\n      <th></th>\n      <th></th>\n      <th></th>\n      <th></th>\n      <th></th>\n      <th></th>\n    </tr>\n  </thead>\n  <tbody>\n    <tr>\n      <th>1</th>\n      <td>0.0</td>\n      <td>0.0</td>\n      <td>0.0</td>\n      <td>0.0</td>\n      <td>0.0</td>\n      <td>0.0</td>\n      <td>0.0</td>\n      <td>0.0</td>\n      <td>0.0</td>\n      <td>0.0</td>\n      <td>...</td>\n      <td>4.0</td>\n      <td>0.0</td>\n      <td>4.0</td>\n      <td>4.0</td>\n      <td>0.0</td>\n      <td>3.0</td>\n      <td>0.0</td>\n      <td>1.0</td>\n      <td>0.0</td>\n      <td>0.0</td>\n    </tr>\n    <tr>\n      <th>2</th>\n      <td>3.0</td>\n      <td>0.0</td>\n      <td>2.0</td>\n      <td>2.0</td>\n      <td>0.0</td>\n      <td>0.0</td>\n      <td>0.0</td>\n      <td>5.0</td>\n      <td>2.0</td>\n      <td>0.0</td>\n      <td>...</td>\n      <td>0.0</td>\n      <td>5.0</td>\n      <td>0.0</td>\n      <td>4.0</td>\n      <td>0.0</td>\n      <td>0.0</td>\n      <td>0.0</td>\n      <td>0.0</td>\n      <td>0.0</td>\n      <td>2.0</td>\n    </tr>\n    <tr>\n      <th>3</th>\n      <td>0.0</td>\n      <td>1.0</td>\n      <td>0.0</td>\n      <td>4.0</td>\n      <td>0.0</td>\n      <td>4.0</td>\n      <td>0.0</td>\n      <td>0.0</td>\n      <td>3.0</td>\n      <td>2.0</td>\n      <td>...</td>\n      <td>2.0</td>\n      <td>5.0</td>\n      <td>3.0</td>\n      <td>2.0</td>\n      <td>0.0</td>\n      <td>1.0</td>\n      <td>5.0</td>\n      <td>3.0</td>\n      <td>5.0</td>\n      <td>0.0</td>\n    </tr>\n    <tr>\n      <th>4</th>\n      <td>3.0</td>\n      <td>3.0</td>\n      <td>0.0</td>\n      <td>0.0</td>\n      <td>0.0</td>\n      <td>0.0</td>\n      <td>0.0</td>\n      <td>4.0</td>\n      <td>3.0</td>\n      <td>0.0</td>\n      <td>...</td>\n      <td>1.0</td>\n      <td>0.0</td>\n      <td>4.0</td>\n      <td>4.0</td>\n      <td>0.0</td>\n      <td>4.0</td>\n      <td>5.0</td>\n      <td>0.0</td>\n      <td>1.0</td>\n      <td>5.0</td>\n    </tr>\n    <tr>\n      <th>5</th>\n      <td>0.0</td>\n      <td>0.0</td>\n      <td>5.0</td>\n      <td>1.0</td>\n      <td>1.0</td>\n      <td>0.0</td>\n      <td>4.0</td>\n      <td>2.0</td>\n      <td>0.0</td>\n      <td>4.0</td>\n      <td>...</td>\n      <td>2.0</td>\n      <td>3.0</td>\n      <td>1.0</td>\n      <td>0.0</td>\n      <td>5.0</td>\n      <td>1.0</td>\n      <td>4.0</td>\n      <td>3.0</td>\n      <td>2.0</td>\n      <td>4.0</td>\n    </tr>\n  </tbody>\n</table>\n<p>5 rows × 57 columns</p>\n</div>"
     },
     "metadata": {},
     "execution_count": 687
    }
   ],
   "source": [
    "user_area_rating.head()"
   ]
  },
  {
   "cell_type": "code",
   "execution_count": 688,
   "metadata": {},
   "outputs": [],
   "source": [
    "# matrix는 pivot_table 값을 numpy matrix로 만든 것 \n",
    "matrix = user_area_rating.values\n",
    "# user_ratings_mean은 사용자의 평균 평점 \n",
    "user_ratings_mean = np.mean(matrix, axis = 1)\n",
    "\n",
    "# R_user_mean : 사용자-영화에 대해 사용자 평균 평점을 뺀 것.\n",
    "matrix_user_mean = matrix - user_ratings_mean.reshape(-1, 1)"
   ]
  },
  {
   "cell_type": "code",
   "execution_count": 689,
   "metadata": {},
   "outputs": [
    {
     "output_type": "execute_result",
     "data": {
      "text/plain": [
       "array([[0., 0., 0., ..., 1., 0., 0.],\n",
       "       [3., 0., 2., ..., 0., 0., 2.],\n",
       "       [0., 1., 0., ..., 3., 5., 0.],\n",
       "       ...,\n",
       "       [3., 1., 4., ..., 1., 3., 0.],\n",
       "       [0., 4., 4., ..., 2., 3., 1.],\n",
       "       [5., 0., 4., ..., 3., 4., 4.]])"
      ]
     },
     "metadata": {},
     "execution_count": 689
    }
   ],
   "source": [
    "matrix"
   ]
  },
  {
   "cell_type": "code",
   "execution_count": 690,
   "metadata": {},
   "outputs": [
    {
     "output_type": "execute_result",
     "data": {
      "text/plain": [
       "(30, 57)"
      ]
     },
     "metadata": {},
     "execution_count": 690
    }
   ],
   "source": [
    "matrix.shape"
   ]
  },
  {
   "cell_type": "code",
   "execution_count": 691,
   "metadata": {},
   "outputs": [
    {
     "output_type": "execute_result",
     "data": {
      "text/plain": [
       "(30,)"
      ]
     },
     "metadata": {},
     "execution_count": 691
    }
   ],
   "source": [
    "user_ratings_mean.shape"
   ]
  },
  {
   "cell_type": "code",
   "execution_count": 692,
   "metadata": {},
   "outputs": [
    {
     "output_type": "execute_result",
     "data": {
      "text/plain": [
       "(30, 57)"
      ]
     },
     "metadata": {},
     "execution_count": 692
    }
   ],
   "source": [
    "matrix_user_mean.shape"
   ]
  },
  {
   "cell_type": "code",
   "execution_count": 693,
   "metadata": {},
   "outputs": [
    {
     "output_type": "execute_result",
     "data": {
      "text/plain": [
       "areaid        0         1         2         3         4         5         6   \\\n",
       "0      -1.421053 -1.421053 -1.421053 -1.421053 -1.421053 -1.421053 -1.421053   \n",
       "1       0.596491 -2.403509 -0.403509 -0.403509 -2.403509 -2.403509 -2.403509   \n",
       "2      -2.263158 -1.263158 -2.263158  1.736842 -2.263158  1.736842 -2.263158   \n",
       "3       0.964912  0.964912 -2.035088 -2.035088 -2.035088 -2.035088 -2.035088   \n",
       "4      -1.964912 -1.964912  3.035088 -0.964912 -0.964912 -1.964912  2.035088   \n",
       "\n",
       "areaid        7         8         9   ...        47        48        49  \\\n",
       "0      -1.421053 -1.421053 -1.421053  ...  2.578947 -1.421053  2.578947   \n",
       "1       2.596491 -0.403509 -2.403509  ... -2.403509  2.596491 -2.403509   \n",
       "2      -2.263158  0.736842 -0.263158  ... -0.263158  2.736842  0.736842   \n",
       "3       1.964912  0.964912 -2.035088  ... -1.035088 -2.035088  1.964912   \n",
       "4       0.035088 -1.964912  2.035088  ...  0.035088  1.035088 -0.964912   \n",
       "\n",
       "areaid        50        51        52        53        54        55        56  \n",
       "0       2.578947 -1.421053  1.578947 -1.421053 -0.421053 -1.421053 -1.421053  \n",
       "1       1.596491 -2.403509 -2.403509 -2.403509 -2.403509 -2.403509 -0.403509  \n",
       "2      -0.263158 -2.263158 -1.263158  2.736842  0.736842  2.736842 -2.263158  \n",
       "3       1.964912 -2.035088  1.964912  2.964912 -2.035088 -1.035088  2.964912  \n",
       "4      -1.964912  3.035088 -0.964912  2.035088  1.035088  0.035088  2.035088  \n",
       "\n",
       "[5 rows x 57 columns]"
      ],
      "text/html": "<div>\n<style scoped>\n    .dataframe tbody tr th:only-of-type {\n        vertical-align: middle;\n    }\n\n    .dataframe tbody tr th {\n        vertical-align: top;\n    }\n\n    .dataframe thead th {\n        text-align: right;\n    }\n</style>\n<table border=\"1\" class=\"dataframe\">\n  <thead>\n    <tr style=\"text-align: right;\">\n      <th>areaid</th>\n      <th>0</th>\n      <th>1</th>\n      <th>2</th>\n      <th>3</th>\n      <th>4</th>\n      <th>5</th>\n      <th>6</th>\n      <th>7</th>\n      <th>8</th>\n      <th>9</th>\n      <th>...</th>\n      <th>47</th>\n      <th>48</th>\n      <th>49</th>\n      <th>50</th>\n      <th>51</th>\n      <th>52</th>\n      <th>53</th>\n      <th>54</th>\n      <th>55</th>\n      <th>56</th>\n    </tr>\n  </thead>\n  <tbody>\n    <tr>\n      <th>0</th>\n      <td>-1.421053</td>\n      <td>-1.421053</td>\n      <td>-1.421053</td>\n      <td>-1.421053</td>\n      <td>-1.421053</td>\n      <td>-1.421053</td>\n      <td>-1.421053</td>\n      <td>-1.421053</td>\n      <td>-1.421053</td>\n      <td>-1.421053</td>\n      <td>...</td>\n      <td>2.578947</td>\n      <td>-1.421053</td>\n      <td>2.578947</td>\n      <td>2.578947</td>\n      <td>-1.421053</td>\n      <td>1.578947</td>\n      <td>-1.421053</td>\n      <td>-0.421053</td>\n      <td>-1.421053</td>\n      <td>-1.421053</td>\n    </tr>\n    <tr>\n      <th>1</th>\n      <td>0.596491</td>\n      <td>-2.403509</td>\n      <td>-0.403509</td>\n      <td>-0.403509</td>\n      <td>-2.403509</td>\n      <td>-2.403509</td>\n      <td>-2.403509</td>\n      <td>2.596491</td>\n      <td>-0.403509</td>\n      <td>-2.403509</td>\n      <td>...</td>\n      <td>-2.403509</td>\n      <td>2.596491</td>\n      <td>-2.403509</td>\n      <td>1.596491</td>\n      <td>-2.403509</td>\n      <td>-2.403509</td>\n      <td>-2.403509</td>\n      <td>-2.403509</td>\n      <td>-2.403509</td>\n      <td>-0.403509</td>\n    </tr>\n    <tr>\n      <th>2</th>\n      <td>-2.263158</td>\n      <td>-1.263158</td>\n      <td>-2.263158</td>\n      <td>1.736842</td>\n      <td>-2.263158</td>\n      <td>1.736842</td>\n      <td>-2.263158</td>\n      <td>-2.263158</td>\n      <td>0.736842</td>\n      <td>-0.263158</td>\n      <td>...</td>\n      <td>-0.263158</td>\n      <td>2.736842</td>\n      <td>0.736842</td>\n      <td>-0.263158</td>\n      <td>-2.263158</td>\n      <td>-1.263158</td>\n      <td>2.736842</td>\n      <td>0.736842</td>\n      <td>2.736842</td>\n      <td>-2.263158</td>\n    </tr>\n    <tr>\n      <th>3</th>\n      <td>0.964912</td>\n      <td>0.964912</td>\n      <td>-2.035088</td>\n      <td>-2.035088</td>\n      <td>-2.035088</td>\n      <td>-2.035088</td>\n      <td>-2.035088</td>\n      <td>1.964912</td>\n      <td>0.964912</td>\n      <td>-2.035088</td>\n      <td>...</td>\n      <td>-1.035088</td>\n      <td>-2.035088</td>\n      <td>1.964912</td>\n      <td>1.964912</td>\n      <td>-2.035088</td>\n      <td>1.964912</td>\n      <td>2.964912</td>\n      <td>-2.035088</td>\n      <td>-1.035088</td>\n      <td>2.964912</td>\n    </tr>\n    <tr>\n      <th>4</th>\n      <td>-1.964912</td>\n      <td>-1.964912</td>\n      <td>3.035088</td>\n      <td>-0.964912</td>\n      <td>-0.964912</td>\n      <td>-1.964912</td>\n      <td>2.035088</td>\n      <td>0.035088</td>\n      <td>-1.964912</td>\n      <td>2.035088</td>\n      <td>...</td>\n      <td>0.035088</td>\n      <td>1.035088</td>\n      <td>-0.964912</td>\n      <td>-1.964912</td>\n      <td>3.035088</td>\n      <td>-0.964912</td>\n      <td>2.035088</td>\n      <td>1.035088</td>\n      <td>0.035088</td>\n      <td>2.035088</td>\n    </tr>\n  </tbody>\n</table>\n<p>5 rows × 57 columns</p>\n</div>"
     },
     "metadata": {},
     "execution_count": 693
    }
   ],
   "source": [
    "pd.DataFrame(matrix_user_mean, columns = user_area_rating.columns).head()"
   ]
  },
  {
   "cell_type": "code",
   "execution_count": 694,
   "metadata": {},
   "outputs": [],
   "source": [
    "\n",
    "# scipy에서 제공해주는 svd.  \n",
    "# U 행렬, sigma 행렬, V 전치 행렬을 반환.\n",
    "\n",
    "U, sigma, Vt = svds(matrix_user_mean, k = 12)"
   ]
  },
  {
   "cell_type": "code",
   "execution_count": 695,
   "metadata": {},
   "outputs": [
    {
     "output_type": "stream",
     "name": "stdout",
     "text": [
      "(30, 12)\n(12,)\n(12, 57)\n"
     ]
    }
   ],
   "source": [
    "print(U.shape)\n",
    "print(sigma.shape)\n",
    "print(Vt.shape)"
   ]
  },
  {
   "cell_type": "code",
   "execution_count": 696,
   "metadata": {},
   "outputs": [],
   "source": [
    "sigma = np.diag(sigma)"
   ]
  },
  {
   "cell_type": "code",
   "execution_count": 697,
   "metadata": {},
   "outputs": [
    {
     "output_type": "execute_result",
     "data": {
      "text/plain": [
       "(12, 12)"
      ]
     },
     "metadata": {},
     "execution_count": 697
    }
   ],
   "source": [
    "sigma.shape"
   ]
  },
  {
   "cell_type": "code",
   "execution_count": 698,
   "metadata": {},
   "outputs": [
    {
     "output_type": "execute_result",
     "data": {
      "text/plain": [
       "array([14.23911137,  0.        ,  0.        ,  0.        ,  0.        ,\n",
       "        0.        ,  0.        ,  0.        ,  0.        ,  0.        ,\n",
       "        0.        ,  0.        ])"
      ]
     },
     "metadata": {},
     "execution_count": 698
    }
   ],
   "source": [
    "sigma[0]"
   ]
  },
  {
   "cell_type": "code",
   "execution_count": 699,
   "metadata": {},
   "outputs": [
    {
     "output_type": "execute_result",
     "data": {
      "text/plain": [
       "array([ 0.       , 14.5603443,  0.       ,  0.       ,  0.       ,\n",
       "        0.       ,  0.       ,  0.       ,  0.       ,  0.       ,\n",
       "        0.       ,  0.       ])"
      ]
     },
     "metadata": {},
     "execution_count": 699
    }
   ],
   "source": [
    "sigma[1]"
   ]
  },
  {
   "cell_type": "code",
   "execution_count": 700,
   "metadata": {},
   "outputs": [],
   "source": [
    "# U, Sigma, Vt의 내적을 수행하면, 다시 원본 행렬로 복원이 된다. \n",
    "# 거기에 + 사용자 평균 rating을 적용한다. \n",
    "svd_user_predicted_ratings = np.dot(np.dot(U, sigma), Vt) + user_ratings_mean.reshape(-1, 1)"
   ]
  },
  {
   "cell_type": "code",
   "execution_count": 701,
   "metadata": {},
   "outputs": [
    {
     "output_type": "execute_result",
     "data": {
      "text/plain": [
       "areaid        0         1         2         3         4         5         6   \\\n",
       "0       0.874532  0.338547 -0.273507  1.125004  1.437953  0.310381  0.882117   \n",
       "1       3.629651  1.286686  1.368176  3.083774  0.118090  0.042830 -0.925084   \n",
       "2       0.450070  1.856522 -0.087031  3.687422 -0.103011  2.390423  1.719677   \n",
       "3       2.076011  2.482469  0.626469 -0.608392  0.699117  0.425802  0.249982   \n",
       "4      -0.004907  0.455974  4.627291  1.544367  0.329680 -0.412844  3.854152   \n",
       "\n",
       "areaid        7         8         9   ...        47        48        49  \\\n",
       "0       1.952133  0.087468 -0.072775  ...  3.023657  0.942883  3.480378   \n",
       "1       5.255927  3.294667  0.574276  ... -0.060359  4.967275  0.648080   \n",
       "2       0.593040  2.810138  3.073510  ...  1.135655  3.710894  3.017745   \n",
       "3       2.570768  3.187467 -0.576284  ...  1.834042  0.220465  4.797034   \n",
       "4       2.322405 -0.372725  4.264074  ...  1.912899  2.958295  0.627411   \n",
       "\n",
       "areaid        50        51        52        53        54        55        56  \n",
       "0       3.672999  0.335677  1.707069  0.003252  0.923776  0.997074  0.396717  \n",
       "1       2.897183  0.926580  0.312816  1.249607 -0.647600  1.348352  1.688990  \n",
       "2       2.444932 -0.751025  0.656225  5.242340  1.934065  3.609726 -0.144324  \n",
       "3       4.138439  0.617185  4.198144  5.225274 -0.294843  1.605699  4.289851  \n",
       "4      -0.834327  4.063018  1.482391  3.989427  3.105634  2.884416  1.786116  \n",
       "\n",
       "[5 rows x 57 columns]"
      ],
      "text/html": "<div>\n<style scoped>\n    .dataframe tbody tr th:only-of-type {\n        vertical-align: middle;\n    }\n\n    .dataframe tbody tr th {\n        vertical-align: top;\n    }\n\n    .dataframe thead th {\n        text-align: right;\n    }\n</style>\n<table border=\"1\" class=\"dataframe\">\n  <thead>\n    <tr style=\"text-align: right;\">\n      <th>areaid</th>\n      <th>0</th>\n      <th>1</th>\n      <th>2</th>\n      <th>3</th>\n      <th>4</th>\n      <th>5</th>\n      <th>6</th>\n      <th>7</th>\n      <th>8</th>\n      <th>9</th>\n      <th>...</th>\n      <th>47</th>\n      <th>48</th>\n      <th>49</th>\n      <th>50</th>\n      <th>51</th>\n      <th>52</th>\n      <th>53</th>\n      <th>54</th>\n      <th>55</th>\n      <th>56</th>\n    </tr>\n  </thead>\n  <tbody>\n    <tr>\n      <th>0</th>\n      <td>0.874532</td>\n      <td>0.338547</td>\n      <td>-0.273507</td>\n      <td>1.125004</td>\n      <td>1.437953</td>\n      <td>0.310381</td>\n      <td>0.882117</td>\n      <td>1.952133</td>\n      <td>0.087468</td>\n      <td>-0.072775</td>\n      <td>...</td>\n      <td>3.023657</td>\n      <td>0.942883</td>\n      <td>3.480378</td>\n      <td>3.672999</td>\n      <td>0.335677</td>\n      <td>1.707069</td>\n      <td>0.003252</td>\n      <td>0.923776</td>\n      <td>0.997074</td>\n      <td>0.396717</td>\n    </tr>\n    <tr>\n      <th>1</th>\n      <td>3.629651</td>\n      <td>1.286686</td>\n      <td>1.368176</td>\n      <td>3.083774</td>\n      <td>0.118090</td>\n      <td>0.042830</td>\n      <td>-0.925084</td>\n      <td>5.255927</td>\n      <td>3.294667</td>\n      <td>0.574276</td>\n      <td>...</td>\n      <td>-0.060359</td>\n      <td>4.967275</td>\n      <td>0.648080</td>\n      <td>2.897183</td>\n      <td>0.926580</td>\n      <td>0.312816</td>\n      <td>1.249607</td>\n      <td>-0.647600</td>\n      <td>1.348352</td>\n      <td>1.688990</td>\n    </tr>\n    <tr>\n      <th>2</th>\n      <td>0.450070</td>\n      <td>1.856522</td>\n      <td>-0.087031</td>\n      <td>3.687422</td>\n      <td>-0.103011</td>\n      <td>2.390423</td>\n      <td>1.719677</td>\n      <td>0.593040</td>\n      <td>2.810138</td>\n      <td>3.073510</td>\n      <td>...</td>\n      <td>1.135655</td>\n      <td>3.710894</td>\n      <td>3.017745</td>\n      <td>2.444932</td>\n      <td>-0.751025</td>\n      <td>0.656225</td>\n      <td>5.242340</td>\n      <td>1.934065</td>\n      <td>3.609726</td>\n      <td>-0.144324</td>\n    </tr>\n    <tr>\n      <th>3</th>\n      <td>2.076011</td>\n      <td>2.482469</td>\n      <td>0.626469</td>\n      <td>-0.608392</td>\n      <td>0.699117</td>\n      <td>0.425802</td>\n      <td>0.249982</td>\n      <td>2.570768</td>\n      <td>3.187467</td>\n      <td>-0.576284</td>\n      <td>...</td>\n      <td>1.834042</td>\n      <td>0.220465</td>\n      <td>4.797034</td>\n      <td>4.138439</td>\n      <td>0.617185</td>\n      <td>4.198144</td>\n      <td>5.225274</td>\n      <td>-0.294843</td>\n      <td>1.605699</td>\n      <td>4.289851</td>\n    </tr>\n    <tr>\n      <th>4</th>\n      <td>-0.004907</td>\n      <td>0.455974</td>\n      <td>4.627291</td>\n      <td>1.544367</td>\n      <td>0.329680</td>\n      <td>-0.412844</td>\n      <td>3.854152</td>\n      <td>2.322405</td>\n      <td>-0.372725</td>\n      <td>4.264074</td>\n      <td>...</td>\n      <td>1.912899</td>\n      <td>2.958295</td>\n      <td>0.627411</td>\n      <td>-0.834327</td>\n      <td>4.063018</td>\n      <td>1.482391</td>\n      <td>3.989427</td>\n      <td>3.105634</td>\n      <td>2.884416</td>\n      <td>1.786116</td>\n    </tr>\n  </tbody>\n</table>\n<p>5 rows × 57 columns</p>\n</div>"
     },
     "metadata": {},
     "execution_count": 701
    }
   ],
   "source": [
    "df_svd_preds = pd.DataFrame(svd_user_predicted_ratings, columns = user_area_rating.columns)\n",
    "df_svd_preds.head()"
   ]
  },
  {
   "cell_type": "code",
   "execution_count": 702,
   "metadata": {},
   "outputs": [
    {
     "output_type": "execute_result",
     "data": {
      "text/plain": [
       "(30, 57)"
      ]
     },
     "metadata": {},
     "execution_count": 702
    }
   ],
   "source": [
    "df_svd_preds.shape"
   ]
  },
  {
   "cell_type": "code",
   "execution_count": 713,
   "metadata": {},
   "outputs": [],
   "source": [
    "def recommend_areas(df_svd_preds, user_id, ori_df_area, ori_ratings_df, num_recommendations=5):\n",
    "    \n",
    "    #현재는 index로 적용이 되어있으므로 user_id - 1을 해야함.\n",
    "    user_row_number = user_id - 1 \n",
    "\n",
    "    # 최종적으로 만든 pred_df에서 사용자 index에 따라 영화 데이터 정렬 -> 영화 평점이 높은 순으로 정렬 됌\n",
    "    sorted_user_predictions = df_svd_preds.iloc[user_row_number].sort_values(ascending=False)\n",
    "\n",
    "    # 원본 평점 데이터에서 user id에 해당하는 데이터를 뽑아낸다. \n",
    "    user_data = ori_ratings_df[ori_ratings_df.userid == user_id]\n",
    "\n",
    "    # 위에서 뽑은 user_data와 원본 영화 데이터를 합친다. \n",
    "    user_history = user_data.merge(df_area, on = 'areaid').sort_values(['rating'], ascending=False)\n",
    "\n",
    "    # 원본 영화 데이터에서 사용자가 본 영화 데이터를 제외한 데이터를 추출\n",
    "    recommendations = ori_df_area[~ori_df_area['areaid'].isin(user_history['areaid'])]\n",
    "\n",
    "    # 모두 가봤다면 Empty로 에러가발생..\n",
    "    # # 안본게 없다면 즉,\n",
    "    if(recommendations.empty==True):# 공백이라면\n",
    "        recommendations=ori_df_area # 다시 전부 추천\n",
    "\n",
    "    # 사용자의 영화 평점이 높은 순으로 정렬된 데이터와 위 recommendations을 합친다. \n",
    "\n",
    "    recommendations = recommendations.merge( pd.DataFrame(sorted_user_predictions).reset_index(), on = 'areaid')\n",
    "\n",
    "    # 컬럼 이름 바꾸고 정렬해서 return\n",
    "    recommendations = recommendations.rename(columns = {user_row_number: 'Predictions'}).sort_values('Predictions', ascending = False).iloc[:num_recommendations, :]\n",
    "\n",
    "    return user_history, recommendations"
   ]
  },
  {
   "cell_type": "code",
   "execution_count": 715,
   "metadata": {},
   "outputs": [],
   "source": [
    "already_rated, predictions = recommend_areas(df_svd_preds, 29, df_area, df_user, 5)"
   ]
  },
  {
   "cell_type": "code",
   "execution_count": 716,
   "metadata": {},
   "outputs": [
    {
     "output_type": "execute_result",
     "data": {
      "text/plain": [
       "    userid  areaid  rating       title genres\n",
       "23      29      25       5    곡성레저문화센터   전라남도\n",
       "39      29      46       5    서동 작은미술관  부산광역시\n",
       "33      29      39       5    해남문화예술회관   전라남도\n",
       "30      29      35       5      여수시민회관   전라남도\n",
       "38      29      45       5   작은미술관 보구곶    경기도\n",
       "20      29      22       5     영광예술의전당   전라남도\n",
       "27      29      30       5    장성문화예술회관   전라남도\n",
       "2       29       2       4  청주공연예술연습공간   충청북도\n",
       "16      29      17       4  대구공연예술연습공간  대구광역시\n",
       "5       29       5       4  춘천공연예술연습공간    강원도"
      ],
      "text/html": "<div>\n<style scoped>\n    .dataframe tbody tr th:only-of-type {\n        vertical-align: middle;\n    }\n\n    .dataframe tbody tr th {\n        vertical-align: top;\n    }\n\n    .dataframe thead th {\n        text-align: right;\n    }\n</style>\n<table border=\"1\" class=\"dataframe\">\n  <thead>\n    <tr style=\"text-align: right;\">\n      <th></th>\n      <th>userid</th>\n      <th>areaid</th>\n      <th>rating</th>\n      <th>title</th>\n      <th>genres</th>\n    </tr>\n  </thead>\n  <tbody>\n    <tr>\n      <th>23</th>\n      <td>29</td>\n      <td>25</td>\n      <td>5</td>\n      <td>곡성레저문화센터</td>\n      <td>전라남도</td>\n    </tr>\n    <tr>\n      <th>39</th>\n      <td>29</td>\n      <td>46</td>\n      <td>5</td>\n      <td>서동 작은미술관</td>\n      <td>부산광역시</td>\n    </tr>\n    <tr>\n      <th>33</th>\n      <td>29</td>\n      <td>39</td>\n      <td>5</td>\n      <td>해남문화예술회관</td>\n      <td>전라남도</td>\n    </tr>\n    <tr>\n      <th>30</th>\n      <td>29</td>\n      <td>35</td>\n      <td>5</td>\n      <td>여수시민회관</td>\n      <td>전라남도</td>\n    </tr>\n    <tr>\n      <th>38</th>\n      <td>29</td>\n      <td>45</td>\n      <td>5</td>\n      <td>작은미술관 보구곶</td>\n      <td>경기도</td>\n    </tr>\n    <tr>\n      <th>20</th>\n      <td>29</td>\n      <td>22</td>\n      <td>5</td>\n      <td>영광예술의전당</td>\n      <td>전라남도</td>\n    </tr>\n    <tr>\n      <th>27</th>\n      <td>29</td>\n      <td>30</td>\n      <td>5</td>\n      <td>장성문화예술회관</td>\n      <td>전라남도</td>\n    </tr>\n    <tr>\n      <th>2</th>\n      <td>29</td>\n      <td>2</td>\n      <td>4</td>\n      <td>청주공연예술연습공간</td>\n      <td>충청북도</td>\n    </tr>\n    <tr>\n      <th>16</th>\n      <td>29</td>\n      <td>17</td>\n      <td>4</td>\n      <td>대구공연예술연습공간</td>\n      <td>대구광역시</td>\n    </tr>\n    <tr>\n      <th>5</th>\n      <td>29</td>\n      <td>5</td>\n      <td>4</td>\n      <td>춘천공연예술연습공간</td>\n      <td>강원도</td>\n    </tr>\n  </tbody>\n</table>\n</div>"
     },
     "metadata": {},
     "execution_count": 716
    }
   ],
   "source": [
    "already_rated.head(10)"
   ]
  },
  {
   "cell_type": "code",
   "execution_count": 717,
   "metadata": {},
   "outputs": [
    {
     "output_type": "execute_result",
     "data": {
      "text/plain": [
       "   areaid                title genres  Predictions\n",
       "7      48             악양 작은미술관   경상남도     2.062393\n",
       "3      31            목포시문화예술회관   전라남도     1.853583\n",
       "2      27             구례문화예술회관   전라남도     1.201624\n",
       "4      34             순천문화예술회관   전라남도     1.093958\n",
       "8      52  정라항 그리go 작은미술관 4048    강원도     0.949001"
      ],
      "text/html": "<div>\n<style scoped>\n    .dataframe tbody tr th:only-of-type {\n        vertical-align: middle;\n    }\n\n    .dataframe tbody tr th {\n        vertical-align: top;\n    }\n\n    .dataframe thead th {\n        text-align: right;\n    }\n</style>\n<table border=\"1\" class=\"dataframe\">\n  <thead>\n    <tr style=\"text-align: right;\">\n      <th></th>\n      <th>areaid</th>\n      <th>title</th>\n      <th>genres</th>\n      <th>Predictions</th>\n    </tr>\n  </thead>\n  <tbody>\n    <tr>\n      <th>7</th>\n      <td>48</td>\n      <td>악양 작은미술관</td>\n      <td>경상남도</td>\n      <td>2.062393</td>\n    </tr>\n    <tr>\n      <th>3</th>\n      <td>31</td>\n      <td>목포시문화예술회관</td>\n      <td>전라남도</td>\n      <td>1.853583</td>\n    </tr>\n    <tr>\n      <th>2</th>\n      <td>27</td>\n      <td>구례문화예술회관</td>\n      <td>전라남도</td>\n      <td>1.201624</td>\n    </tr>\n    <tr>\n      <th>4</th>\n      <td>34</td>\n      <td>순천문화예술회관</td>\n      <td>전라남도</td>\n      <td>1.093958</td>\n    </tr>\n    <tr>\n      <th>8</th>\n      <td>52</td>\n      <td>정라항 그리go 작은미술관 4048</td>\n      <td>강원도</td>\n      <td>0.949001</td>\n    </tr>\n  </tbody>\n</table>\n</div>"
     },
     "metadata": {},
     "execution_count": 717
    }
   ],
   "source": [
    "predictions"
   ]
  },
  {
   "cell_type": "code",
   "execution_count": 584,
   "metadata": {},
   "outputs": [
    {
     "output_type": "execute_result",
     "data": {
      "text/plain": [
       "pandas.core.frame.DataFrame"
      ]
     },
     "metadata": {},
     "execution_count": 584
    }
   ],
   "source": []
  },
  {
   "cell_type": "code",
   "execution_count": null,
   "metadata": {},
   "outputs": [],
   "source": [
    "# 오케이\n",
    "# 데이터에 대해서 \n",
    "# ㅇㅇㅇㅇㅇ\n",
    "# ㅇㅇㅇㅇ\n",
    "# ㅇㅇㅇ\n",
    "# ㅇㅇ\n"
   ]
  },
  {
   "cell_type": "code",
   "execution_count": null,
   "metadata": {},
   "outputs": [],
   "source": []
  }
 ]
}